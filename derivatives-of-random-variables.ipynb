{
 "cells": [
  {
   "cell_type": "markdown",
   "metadata": {
    "collapsed": true
   },
   "source": [
    "# Distributions of The Derivatives of Random Variables"
   ]
  },
  {
   "cell_type": "markdown",
   "metadata": {},
   "source": [
    "## Problem Statement"
   ]
  },
  {
   "cell_type": "markdown",
   "metadata": {},
   "source": [
    "Let $s_i= s_{0i} + n_i$ be a discrete time series with true signal $s_{0i}$ and white noise $n_i$. $n_i$ follows the normal distribution $n(0, \\sigma ^ 2$ for all $i$s. let $s^{(m)}_i$ be the derivative of $s_i$, the question is, what is the distribution of noise in $s^{(m)}_i$\n",
    "\n",
    "Here, the derivatives are defined as\n",
    "$$s^{(0)}_i = s_i$$\n",
    "$$s^{(1)}_i = s_{i+1}-s_i$$\n",
    "$$s^{(2)}_i = s^{(1)}_{i+1}-s^{(1)}_i$$\n",
    "$$...$$\n",
    "\n",
    "In general\n",
    "$$s^{(m)}_i = s^{(m-1)}_{i+1}-s^{(m-1)}_i$$\n",
    "\n",
    "Give $$s^{(0)}_i = s_i$$ and apply the above formula recursively, we have the expession of $$s^{(m)}_i$$ regarding to $$s_i$$\n",
    "$$s^{(0)}_i = s_i$$\n",
    "$$s^{(1)}_i = s_{i+1}-s_i$$\n",
    "$$s^{(2)}_i = s_{i+1}-2s_i+s_{i-1}$$\n",
    "$$...$$\n",
    "$$s^{(m)}_i=\\sum_{j=0}^m S^{(m)}_j n_{i+\\lceil m/2 \\rceil -j}$$\n",
    "\n",
    "where $S^{(m)}_i = (-1)^{j+1} \\frac{m!}{(m-j)!j!}$ is the binomial coefficients, and $\\lceil\\cdot \\rceil$ denote ceil operation."
   ]
  },
  {
   "cell_type": "code",
   "execution_count": null,
   "metadata": {
    "collapsed": true
   },
   "outputs": [],
   "source": []
  }
 ],
 "metadata": {
  "kernelspec": {
   "display_name": "Python 3.6",
   "language": "python",
   "name": "python36"
  },
  "language_info": {
   "codemirror_mode": {
    "name": "ipython",
    "version": 3
   },
   "file_extension": ".py",
   "mimetype": "text/x-python",
   "name": "python",
   "nbconvert_exporter": "python",
   "pygments_lexer": "ipython3",
   "version": "3.6.0"
  }
 },
 "nbformat": 4,
 "nbformat_minor": 2
}
