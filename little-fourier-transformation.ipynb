{
 "cells": [
  {
   "cell_type": "markdown",
   "metadata": {},
   "source": [
    "# Little Fourier Transformation"
   ]
  },
  {
   "cell_type": "markdown",
   "metadata": {},
   "source": [
    "If the size of Fourier transformation is very small, say 4 or 8, what do the bases look like? \n",
    "\n",
    "More specificly, direct DFT is defined as\n",
    "\n",
    "$$\n",
    "A_k = \\sum_{m=0}^{N-1}a_m e^{-2 \\pi i \\frac{mk}{N}},\\quad k=0,...,N-1\n",
    "$$\n",
    "\n",
    "and inverse DFT is defined as\n",
    "\n",
    "$$\n",
    "a_m = \\frac{1}{N}\\sum_{k=0}^{N-1}A_k e^{2 \\pi i \\frac{mk}{N}},\\quad m=0,...,N-1\n",
    "$$\n",
    "\n",
    "let $N=4$, we want to see the shapes of $e^{2 \\pi i \\frac{mk}{N}}$ along $m$ for $k=0,1,2,3$.\n",
    "\n",
    "Let $A_k=\\delta_k^l$ for $l=0,1,2,3$, then inverse DFT for a given $l=0,1,2,3$ is\n",
    "\n",
    "\\begin{equation}\n",
    "a_m = \\frac{1}{n}\\sum_{k=0}^{N-1}\\delta_k^l e^{2 \\pi i \\frac{mk}{N}},\\quad m=0,...,N-1 \\\\\n",
    "= \\frac{1}{N}e^{2 \\pi i \\frac{ml}{N}},\\quad m=0,...,n-1\n",
    "\\end{equation}\n",
    "\n",
    "So we only need to calculate the inverse DFT of various $\\delta$-functions for $l=0,1,2,3$ to get the shapes of the bases"
   ]
  },
  {
   "cell_type": "code",
   "execution_count": 148,
   "metadata": {
    "collapsed": true
   },
   "outputs": [],
   "source": [
    "import numpy as np\n",
    "import matplotlib.pyplot as plt\n",
    "\n",
    "# some first class functions for convenience\n",
    "fft = np.fft.fft\n",
    "ifft = np.fft.ifft\n",
    "fftshift = np.fft.fftshift\n",
    "ifftshift = np.fft.ifftshift\n",
    "fft2 = np.fft.fft2\n",
    "ifft2 = np.fft.ifft2"
   ]
  },
  {
   "cell_type": "markdown",
   "metadata": {},
   "source": [
    "## One Dimension"
   ]
  },
  {
   "cell_type": "code",
   "execution_count": 149,
   "metadata": {},
   "outputs": [
    {
     "data": {
      "text/plain": [
       "array([[ 0.25+0.j  , -0.25+0.j  ,  0.25+0.j  , -0.25+0.j  ],\n",
       "       [-0.25+0.j  ,  0.00+0.25j,  0.25+0.j  ,  0.00-0.25j],\n",
       "       [ 0.25+0.j  ,  0.25+0.j  ,  0.25+0.j  ,  0.25+0.j  ],\n",
       "       [-0.25+0.j  ,  0.00-0.25j,  0.25+0.j  ,  0.00+0.25j]])"
      ]
     },
     "execution_count": 149,
     "metadata": {},
     "output_type": "execute_result"
    }
   ],
   "source": [
    "# assume we have a spike in frequence domain with length 4\n",
    "n = 4\n",
    "# we generate n spikes at diffrence frequencies, \n",
    "# note the first axis which is the same as matlab first dimension, is \n",
    "# the frequency dimension, the 2nd axis is for the different spike locations\n",
    "fdata = np.diag(np.ones((n,)))\n",
    "tdata = ifftshift(ifft(ifftshift(fdata, axes=0), axis=0), axes=0)\n",
    "tdata"
   ]
  },
  {
   "cell_type": "code",
   "execution_count": 150,
   "metadata": {},
   "outputs": [
    {
     "data": {
      "image/png": "[encoded data removed]",
      "text/plain": [
       "<matplotlib.figure.Figure at 0x7f8714245668>"
      ]
     },
     "metadata": {},
     "output_type": "display_data"
    }
   ],
   "source": [
    "for ii in range(0,n):\n",
    "    plt.subplot(2, n, ii+1)\n",
    "    # plot the iith time domain real data\n",
    "    plt.plot(range(0,n), tdata[::,ii].real)\n",
    "    plt.subplot(2, n, n+ ii+1)\n",
    "    # plot the iith time domain imag data\n",
    "    plt.plot(range(0,n), tdata[::,ii].imag)\n",
    "plt.show()\n"
   ]
  },
  {
   "cell_type": "markdown",
   "metadata": {},
   "source": [
    "The above figures diplay the real and imag parts (two rows) of the bases for $l$ (columns)"
   ]
  },
  {
   "cell_type": "markdown",
   "metadata": {},
   "source": [
    "## Two Dimension"
   ]
  },
  {
   "cell_type": "code",
   "execution_count": 151,
   "metadata": {},
   "outputs": [
    {
     "name": "stdout",
     "output_type": "stream",
     "text": [
      "[0 1 2 3 4 5]\n"
     ]
    },
    {
     "data": {
      "text/plain": [
       "array([[0, 2, 4],\n",
       "       [1, 3, 5]])"
      ]
     },
     "execution_count": 151,
     "metadata": {},
     "output_type": "execute_result"
    }
   ],
   "source": [
    "a = np.array(range(6)); print(a)\n",
    "np.reshape(a, (2,3), order='F')"
   ]
  },
  {
   "cell_type": "code",
   "execution_count": 152,
   "metadata": {
    "collapsed": true
   },
   "outputs": [],
   "source": [
    "# assume we have a spike in 2D kspace domain with shape (4,4)\n",
    "n = 4\n",
    "kdata = np.diag(np.ones((n*n,)))\n",
    "kdata = np.reshape(kdata, (n,n,n*n), order='F')\n",
    "imdata = ifftshift(ifft2(ifftshift(kdata, axes=(0,1)), axes=(0,1)), axes=(0,1))"
   ]
  },
  {
   "cell_type": "code",
   "execution_count": 159,
   "metadata": {},
   "outputs": [
    {
     "data": {
      "image/png": "[encoded data removed]",
      "text/plain": [
       "<matplotlib.figure.Figure at 0x7f86f11e2240>"
      ]
     },
     "metadata": {},
     "output_type": "display_data"
    }
   ],
   "source": [
    "# make sure import data is good\n",
    "for ii in range(n*n):\n",
    "    plt.subplot(n,n, ii%n*n+np.floor(ii/n)+1)\n",
    "    plt.imshow(kdata[:,:,ii], cmap='gray')\n",
    "plt.show()"
   ]
  },
  {
   "cell_type": "code",
   "execution_count": 161,
   "metadata": {},
   "outputs": [
    {
     "data": {
      "image/png": "[encoded data removed]",
      "text/plain": [
       "<matplotlib.figure.Figure at 0x7f871425f710>"
      ]
     },
     "metadata": {},
     "output_type": "display_data"
    }
   ],
   "source": [
    "# real image data\n",
    "for ii in range(n*n):\n",
    "    plt.subplot(n,n, ii%n*n+np.floor(ii/n)+1)\n",
    "    plt.imshow(imdata[:,:,ii].real, cmap='gray')\n",
    "plt.show()"
   ]
  },
  {
   "cell_type": "code",
   "execution_count": 158,
   "metadata": {},
   "outputs": [
    {
     "data": {
      "image/png": "[encoded data removed]",
      "text/plain": [
       "<matplotlib.figure.Figure at 0x7f86f1ae9e10>"
      ]
     },
     "metadata": {},
     "output_type": "display_data"
    }
   ],
   "source": [
    "# imag image data\n",
    "for ii in range(n*n):\n",
    "    plt.subplot(n,n, ii%n*n+np.floor(ii/n)+1)\n",
    "    plt.imshow(imdata[:,:,ii].imag, cmap='gray')\n",
    "plt.show()"
   ]
  },
  {
   "cell_type": "markdown",
   "metadata": {},
   "source": [
    "The above figures diplay the real and imag parts (two rows) of the bases for $l$ (columns)"
   ]
  }
 ],
 "metadata": {
  "kernelspec": {
   "display_name": "Python 3.6",
   "language": "python",
   "name": "python36"
  },
  "language_info": {
   "codemirror_mode": {
    "name": "ipython",
    "version": 3
   },
   "file_extension": ".py",
   "mimetype": "text/x-python",
   "name": "python",
   "nbconvert_exporter": "python",
   "pygments_lexer": "ipython3",
   "version": "3.6.0"
  }
 },
 "nbformat": 4,
 "nbformat_minor": 2
}
